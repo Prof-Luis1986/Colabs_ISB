{
  "nbformat": 4,
  "nbformat_minor": 0,
  "metadata": {
    "colab": {
      "provenance": [],
      "authorship_tag": "ABX9TyOXB08kg8TMfVpLzc5F5knD",
      "include_colab_link": true
    },
    "kernelspec": {
      "name": "python3",
      "display_name": "Python 3"
    },
    "language_info": {
      "name": "python"
    }
  },
  "cells": [
    {
      "cell_type": "markdown",
      "metadata": {
        "id": "view-in-github",
        "colab_type": "text"
      },
      "source": [
        "<a href=\"https://colab.research.google.com/github/Prof-Luis1986/Colabs_ISB/blob/main/Ejercicio_Poblaci%C3%B3n_de_Mx.ipynb\" target=\"_parent\"><img src=\"https://colab.research.google.com/assets/colab-badge.svg\" alt=\"Open In Colab\"/></a>"
      ]
    },
    {
      "cell_type": "markdown",
      "source": [
        "1-Importa las Bibliotecas Necesarias\n",
        "\n",
        "Primero, necesitas importar las bibliotecas que vas a utilizar: **texto en negrita**\n",
        "\n",
        "```python\n",
        "import pandas as pd\n",
        "import matplotlib.pyplot as plt\n",
        "```"
      ],
      "metadata": {
        "id": "u9454c6vefZF"
      }
    },
    {
      "cell_type": "code",
      "source": [],
      "metadata": {
        "id": "x2rjVhyge97x"
      },
      "execution_count": null,
      "outputs": []
    },
    {
      "cell_type": "markdown",
      "source": [
        "2-Crea el DataFrame con los Datos\n",
        "\n",
        "Usa los datos proporcionados para crear un DataFrame de pandas: **texto en negrita**\n",
        "\n",
        "```python\n",
        "# Datos de la población de los estados\n",
        "data = {\n",
        "    'Estado': ['Aguascalientes', 'Baja California', 'Baja California Sur', 'Campeche', 'Chiapas',\n",
        "               'Chihuahua', 'Coahuila', 'Colima', 'Ciudad de México', 'Durango', 'Guanajuato',\n",
        "               'Guerrero', 'Hidalgo', 'Jalisco', 'México', 'Michoacán', 'Morelos', 'Nayarit',\n",
        "               'Nuevo León', 'Oaxaca', 'Puebla', 'Querétaro', 'Quintana Roo', 'San Luis Potosí',\n",
        "               'Sinaloa', 'Sonora', 'Tabasco', 'Tamaulipas', 'Tlaxcala', 'Veracruz', 'Yucatán',\n",
        "               'Zacatecas'],\n",
        "    'Población': [1425545, 3376557, 798447, 928363, 5544837, 3556574, 2954915, 731391,\n",
        "                  8918653, 1754754, 5853677, 3533251, 2858359, 8366444, 16990432, 4599796,\n",
        "                  1971520, 1235456, 5435455, 4067959, 6288058, 2279637, 1720726, 2822255,\n",
        "                  2966321, 2850330, 2402598, 3527735, 1342977, 8062579, 2097175, 1622138]\n",
        "}\n",
        "\n",
        "df = pd.DataFrame(data)\n",
        "\n",
        "```"
      ],
      "metadata": {
        "id": "Zi1w1al6fke-"
      }
    },
    {
      "cell_type": "code",
      "source": [],
      "metadata": {
        "id": "hhrJqIvrfyh9"
      },
      "execution_count": null,
      "outputs": []
    },
    {
      "cell_type": "markdown",
      "source": [
        "3-Mostrar la Tabla de Datos\n",
        "\n",
        "Muestra la tabla con los datos: **texto en negrita**\n",
        "\n",
        "```python\n",
        "df\n",
        "\n",
        "```"
      ],
      "metadata": {
        "id": "aoNUXEGZfxKc"
      }
    },
    {
      "cell_type": "code",
      "source": [],
      "metadata": {
        "id": "4dFo9qsdgMB5"
      },
      "execution_count": null,
      "outputs": []
    },
    {
      "cell_type": "markdown",
      "source": [
        "4-Graficar la Población por Estado\n",
        "\n",
        "Puedes crear un gráfico de barras para visualizar la población de cada estado: **texto en negrita**\n",
        "\n",
        "```python\n",
        "plt.figure(figsize=(12, 8))\n",
        "plt.barh(df['Estado'], df['Población'], color='skyblue')\n",
        "plt.xlabel('Población')\n",
        "plt.title('Población por Estado en México (2018)')\n",
        "plt.gca().invert_yaxis()  # Invertir el eje Y para que el estado con mayor población esté arriba\n",
        "plt.show()\n",
        "\n",
        "```"
      ],
      "metadata": {
        "id": "Kfw_1r6TgMnq"
      }
    },
    {
      "cell_type": "code",
      "source": [],
      "metadata": {
        "id": "que4j6Yrgh5o"
      },
      "execution_count": null,
      "outputs": []
    },
    {
      "cell_type": "markdown",
      "source": [
        "5-Calcular y Mostrar el Promedio de Población\n",
        "\n",
        "Calcula el promedio de la población y muestra el resultado: **texto en negrita**\n",
        "\n",
        "```python\n",
        "promedio_poblacion = df['Población'].mean()\n",
        "print(f'Promedio de Población en México (2018): {promedio_poblacion:.2f}')\n",
        "\n",
        "```"
      ],
      "metadata": {
        "id": "xkv3HdMCgiox"
      }
    },
    {
      "cell_type": "code",
      "source": [],
      "metadata": {
        "id": "QMDYoNwkg-rE"
      },
      "execution_count": null,
      "outputs": []
    },
    {
      "cell_type": "markdown",
      "source": [
        "6-Crear una Tabla con el Promedio de Población\n",
        "Se crea un nuevo DataFrame promedio_df para mostrar el promedio de población\n",
        "\n",
        "*   Elemento de la lista\n",
        "*   Elemento de la lista\n",
        "\n",
        "en una tabla.\n",
        "Se imprime la tabla para mostrar el resultado al final del análisis. **texto en negrita**\n",
        "\n",
        "```python\n",
        "# Crear una tabla con el promedio de población\n",
        "promedio_df = pd.DataFrame({'Promedio de Población': [promedio_poblacion]})\n",
        "\n",
        "print(\"Promedio de Población en México (2018):\")\n",
        "print(promedio_df)\n",
        "```"
      ],
      "metadata": {
        "id": "T4W5vUhihalg"
      }
    },
    {
      "cell_type": "code",
      "source": [],
      "metadata": {
        "id": "xk7eNIivhqbH"
      },
      "execution_count": null,
      "outputs": []
    }
  ]
}